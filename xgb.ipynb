{
  "nbformat": 4,
  "nbformat_minor": 0,
  "metadata": {
    "colab": {
      "name": "xgb.ipynb",
      "provenance": [],
      "collapsed_sections": [],
      "authorship_tag": "ABX9TyPFkOg61f0rHYClsDkrZiom",
      "include_colab_link": true
    },
    "kernelspec": {
      "name": "python3",
      "display_name": "Python 3"
    },
    "language_info": {
      "name": "python"
    }
  },
  "cells": [
    {
      "cell_type": "markdown",
      "metadata": {
        "id": "view-in-github",
        "colab_type": "text"
      },
      "source": [
        "<a href=\"https://colab.research.google.com/github/Thasneem-vazim/Lab-programs-sem-2/blob/main/xgb.ipynb\" target=\"_parent\"><img src=\"https://colab.research.google.com/assets/colab-badge.svg\" alt=\"Open In Colab\"/></a>"
      ]
    },
    {
      "cell_type": "code",
      "execution_count": null,
      "metadata": {
        "id": "oEysBGH-asDm"
      },
      "outputs": [],
      "source": [
        "import numpy as np\n",
        "import pandas as pd\n",
        "file= pd.read_csv('/content/Copy of Survey (Responses) - Form Responses 1 (2).csv')\n"
      ]
    },
    {
      "cell_type": "code",
      "source": [
        "x=file[[\"1) Sadness\",\"2) Discouragement\",\"3) Low self-esteem\",\"4) Inferiority\",\"5) Guilt\",\"6) Indecisiveness\",\"7) Irritability\",\"8) Loss of interest in life\",\"9) Loss of motivation\",\"10) Poor self-image\",\"11) Appetite changes\",\"12) Sleep changes\",\"13) Loss of positivity\",\"14) Hypochondriasis\",\"15) Suicidal impulses\"]]\n",
        "\n",
        "y=file[\"Class\"]"
      ],
      "metadata": {
        "id": "VRrlqFTGb_mZ"
      },
      "execution_count": null,
      "outputs": []
    },
    {
      "cell_type": "code",
      "source": [
        "from sklearn.model_selection import train_test_split\n",
        "x_train,x_test,y_train,y_test=train_test_split(x,y,stratify=y,test_size=0.2)"
      ],
      "metadata": {
        "id": "KnQCkevObwPz"
      },
      "execution_count": null,
      "outputs": []
    },
    {
      "cell_type": "code",
      "source": [
        "from xgboost import XGBClassifier\n",
        "import xgboost as xgb\n",
        "params = {\n",
        " 'objective':'binary:logistic',\n",
        " 'max_depth': 4, 'min_child_weight': 12, 'gamma': 0.3, 'subsample': 0.6,\n",
        " 'colsample_bytree': 0.6, 'scale_pos_weight': 1,\n",
        " 'alpha': 0.05,\n",
        " 'learning_rate': 0.03,\n",
        " 'n_estimators':1484,'seed': 27\n",
        " }\n",
        "xgb_clf = XGBClassifier(**params)\n",
        "xgb_clf.fit(x_train,y_train)"
      ],
      "metadata": {
        "colab": {
          "base_uri": "https://localhost:8080/"
        },
        "id": "1NIv0xHHbiPV",
        "outputId": "9e8d727c-2a63-41f5-8633-9f1eecd62830"
      },
      "execution_count": null,
      "outputs": [
        {
          "output_type": "execute_result",
          "data": {
            "text/plain": [
              "XGBClassifier(alpha=0.05, colsample_bytree=0.6, gamma=0.3, learning_rate=0.03,\n",
              "              max_depth=4, min_child_weight=12, n_estimators=1484,\n",
              "              objective='multi:softprob', seed=27, subsample=0.6)"
            ]
          },
          "metadata": {},
          "execution_count": 7
        }
      ]
    },
    {
      "cell_type": "code",
      "source": [
        "y_pred=xgb_clf.predict(x_test)\n",
        "print(y_pred)"
      ],
      "metadata": {
        "colab": {
          "base_uri": "https://localhost:8080/"
        },
        "id": "uMHDdVeTkbVm",
        "outputId": "42ca768b-b71e-4a37-b391-7ae849f79d0f"
      },
      "execution_count": null,
      "outputs": [
        {
          "output_type": "stream",
          "name": "stdout",
          "text": [
            "['Mild depression' 'Moderate depression' 'Borderline depression'\n",
            " 'Borderline depression' 'Borderline depression' 'Mild depression'\n",
            " 'Borderline depression' 'Mild depression' 'Borderline depression'\n",
            " 'Borderline depression' 'Moderate depression' 'Borderline depression'\n",
            " 'Mild depression' 'Moderate depression' 'Mild depression'\n",
            " 'Mild depression' 'Moderate depression' 'Mild depression'\n",
            " 'Moderate depression' 'Mild depression' 'Moderate depression'\n",
            " 'Mild depression' 'Moderate depression' 'Borderline depression'\n",
            " 'Moderate depression' 'Mild depression' 'Mild depression'\n",
            " 'Mild depression' 'Mild depression' 'Borderline depression'\n",
            " 'Moderate depression' 'Borderline depression' 'Borderline depression'\n",
            " 'Mild depression' 'Mild depression' 'Mild depression'\n",
            " 'Moderate depression' 'Moderate depression' 'Moderate depression'\n",
            " 'Mild depression' 'Borderline depression' 'Moderate depression']\n"
          ]
        }
      ]
    },
    {
      "cell_type": "code",
      "source": [
        "import matplotlib.pyplot as plt\n",
        "xgb.plot_importance(xgb_clf)\n",
        "plt.rcParams['figure.figsize']=[15,15]\n",
        "plt.show()"
      ],
      "metadata": {
        "colab": {
          "base_uri": "https://localhost:8080/",
          "height": 295
        },
        "id": "DfcQBwTfcYJI",
        "outputId": "79471f9d-cbe0-4197-db55-b94b0bb9954a"
      },
      "execution_count": null,
      "outputs": [
        {
          "output_type": "display_data",
          "data": {
            "image/png": "[encoded data removed]",
            "text/plain": [
              "<Figure size 432x288 with 1 Axes>"
            ]
          },
          "metadata": {
            "needs_background": "light"
          }
        }
      ]
    },
    {
      "cell_type": "code",
      "source": [
        "pd.Series(xgb_clf.get_booster().get_fscore()).sort_values(ascending=False)\n",
        "\n"
      ],
      "metadata": {
        "colab": {
          "base_uri": "https://localhost:8080/"
        },
        "id": "fKdJCuIwc9Li",
        "outputId": "4a1a29e3-bbc7-4176-d735-87a4b4df3053"
      },
      "execution_count": null,
      "outputs": [
        {
          "output_type": "execute_result",
          "data": {
            "text/plain": [
              "10) Poor self-image            252\n",
              "12) Sleep changes              215\n",
              "2) Discouragement              182\n",
              "11) Appetite changes           175\n",
              "1) Sadness                     162\n",
              "15) Suicidal impulses          162\n",
              "6) Indecisiveness              155\n",
              "8) Loss of interest in life    134\n",
              "14) Hypochondriasis            127\n",
              "4) Inferiority                 117\n",
              "9) Loss of motivation          110\n",
              "13) Loss of positivity         102\n",
              "3) Low self-esteem              94\n",
              "5) Guilt                        88\n",
              "7) Irritability                 82\n",
              "dtype: int64"
            ]
          },
          "metadata": {},
          "execution_count": 9
        }
      ]
    },
    {
      "cell_type": "markdown",
      "source": [
        "from numpy import sort\n",
        "from sklearn.feature_selection import SelectFromModel\n",
        "thresholds = sort(xgb_clf.feature_importances_)\n",
        "print(thresholds)"
      ],
      "metadata": {
        "id": "tVGqSzUudG6L"
      }
    },
    {
      "cell_type": "code",
      "source": [
        "from sklearn import metrics\n",
        "n_min=42\n",
        "acc_max=0\n",
        "thresholds=sort(xgb_clf.feature_importances_)\n",
        "obj_thresh=thresholds[0]\n",
        "for thresh in thresholds:selection=SelectFromModel(xgb_clf,threshold=thresh,prefit=True)\n",
        "select_x_train=selection.transform(x_train)\n",
        "selection_model=XGBClassifier(**params)\n",
        "selection_model.fit(select_x_train,y_train)\n",
        "select_x_test=selection.transform(x_test)\n",
        "predictions=selection_model.predict(select_x_test)\n",
        "accuracy=metrics.accuracy_score(y_test,predictions)\n",
        "print(\"Thresh=%.3f, n=%d, Accuracy: %.2f%%\"%(obj_thresh,select_x_train.shape[1],accuracy*100.0))\n",
        "if(select_x_train.shape[1]<n_min)and(accuracy>acc_max):\n",
        "  n_min=select_X_train.shape[1]\n",
        "acc_max=accuracy\n",
        "obj_thresh=thresh\n",
        "selection=SelectFromModel(xgb_clf,threshold=obj_thresh,prefit=True)\n",
        "select_x_train=selection.transform(x_train)\n",
        "selection_model=XGBClassifier(**params)\n",
        "selection_model.fit(select_X_train,y_train)\n",
        "select_x_test=selection.transform(x_test)\n",
        "predictions=selection_model.predict(select_x_test)\n",
        "accuracy=metrics.accuracy_score(y_test,predictions)\n",
        "print(\"Thresh=%.3f, n=%d, Accuracy: %.2f%%\"%(obj_thresh,select_x_train.shape[1],accuracy*100.0))"
      ],
      "metadata": {
        "colab": {
          "base_uri": "https://localhost:8080/"
        },
        "id": "tVCvLOccfyXq",
        "outputId": "5abecbae-ab9a-4a1c-d9eb-6b6c29b54256"
      },
      "execution_count": null,
      "outputs": [
        {
          "output_type": "stream",
          "name": "stderr",
          "text": [
            "/usr/local/lib/python3.7/dist-packages/sklearn/base.py:444: UserWarning: X has feature names, but SelectFromModel was fitted without feature names\n",
            "  f\"X has feature names, but {self.__class__.__name__} was fitted without\"\n",
            "/usr/local/lib/python3.7/dist-packages/sklearn/base.py:444: UserWarning: X has feature names, but SelectFromModel was fitted without feature names\n",
            "  f\"X has feature names, but {self.__class__.__name__} was fitted without\"\n"
          ]
        },
        {
          "output_type": "stream",
          "name": "stdout",
          "text": [
            "Thresh=0.038, n=1, Accuracy: 35.71%\n"
          ]
        },
        {
          "output_type": "stream",
          "name": "stderr",
          "text": [
            "/usr/local/lib/python3.7/dist-packages/sklearn/base.py:444: UserWarning: X has feature names, but SelectFromModel was fitted without feature names\n",
            "  f\"X has feature names, but {self.__class__.__name__} was fitted without\"\n"
          ]
        },
        {
          "output_type": "stream",
          "name": "stdout",
          "text": [
            "Thresh=0.103, n=1, Accuracy: 35.71%\n"
          ]
        },
        {
          "output_type": "stream",
          "name": "stderr",
          "text": [
            "/usr/local/lib/python3.7/dist-packages/sklearn/base.py:444: UserWarning: X has feature names, but SelectFromModel was fitted without feature names\n",
            "  f\"X has feature names, but {self.__class__.__name__} was fitted without\"\n"
          ]
        }
      ]
    },
    {
      "cell_type": "code",
      "source": [
        "from sklearn.metrics import f1_score\n",
        "print(\"Performance report with XGBoost feature selection and classification is: -\")\n",
        "print('Accuracy = ', metrics.accuracy_score(y_test, predictions)*100)\n",
        "print(\"Confusion Matrix =\", metrics.confusion_matrix(y_test, predictions, labels=None,\n",
        " sample_weight=None))\n",
        "print(\"Recall =\", metrics.recall_score(y_test, predictions, labels=None,\n",
        " pos_label=1, average='weighted',\n",
        " sample_weight=None))\n",
        "print(\"Precision =\", metrics.precision_score(y_test, predictions, labels=None,\n",
        " pos_label=1, average='weighted',\n",
        " sample_weight=None))\n",
        "print(\"Classification Report =\\n\", metrics.classification_report(y_test, y_pred,\n",
        " labels=None,\n",
        "target_names=None,\n",
        "sample_weight=None,\n",
        "digits=2,\n",
        "output_dict=False))\n",
        "print(\"F1 Score = \",f1_score(y_test, y_pred, average='macro'))"
      ],
      "metadata": {
        "colab": {
          "base_uri": "https://localhost:8080/"
        },
        "id": "MWxz4D97j8vP",
        "outputId": "e52d603a-f27e-40ea-ac18-6d404135483b"
      },
      "execution_count": null,
      "outputs": [
        {
          "output_type": "stream",
          "name": "stdout",
          "text": [
            "Performance report with XGBoost feature selection and classification is: -\n",
            "Accuracy =  35.714285714285715\n",
            "Confusion Matrix = [[ 0  8  0  0  0]\n",
            " [ 0  6 10  0  0]\n",
            " [ 0  4  9  0  0]\n",
            " [ 0  2  1  0  0]\n",
            " [ 0  0  2  0  0]]\n",
            "Recall = 0.35714285714285715\n",
            "Precision = 0.24090909090909088\n",
            "Classification Report =\n",
            "                        precision    recall  f1-score   support\n",
            "\n",
            "Borderline depression       0.58      0.88      0.70         8\n",
            "      Mild depression       0.76      0.81      0.79        16\n",
            "  Moderate depression       0.77      0.77      0.77        13\n",
            "        No depression       0.00      0.00      0.00         3\n",
            "    Severe depression       0.00      0.00      0.00         2\n",
            "\n",
            "             accuracy                           0.71        42\n",
            "            macro avg       0.42      0.49      0.45        42\n",
            "         weighted avg       0.64      0.71      0.67        42\n",
            "\n",
            "F1 Score =  0.45142191142191146\n"
          ]
        },
        {
          "output_type": "stream",
          "name": "stderr",
          "text": [
            "/usr/local/lib/python3.7/dist-packages/sklearn/metrics/_classification.py:1318: UndefinedMetricWarning: Precision is ill-defined and being set to 0.0 in labels with no predicted samples. Use `zero_division` parameter to control this behavior.\n",
            "  _warn_prf(average, modifier, msg_start, len(result))\n",
            "/usr/local/lib/python3.7/dist-packages/sklearn/metrics/_classification.py:1318: UndefinedMetricWarning: Precision and F-score are ill-defined and being set to 0.0 in labels with no predicted samples. Use `zero_division` parameter to control this behavior.\n",
            "  _warn_prf(average, modifier, msg_start, len(result))\n",
            "/usr/local/lib/python3.7/dist-packages/sklearn/metrics/_classification.py:1318: UndefinedMetricWarning: Precision and F-score are ill-defined and being set to 0.0 in labels with no predicted samples. Use `zero_division` parameter to control this behavior.\n",
            "  _warn_prf(average, modifier, msg_start, len(result))\n",
            "/usr/local/lib/python3.7/dist-packages/sklearn/metrics/_classification.py:1318: UndefinedMetricWarning: Precision and F-score are ill-defined and being set to 0.0 in labels with no predicted samples. Use `zero_division` parameter to control this behavior.\n",
            "  _warn_prf(average, modifier, msg_start, len(result))\n"
          ]
        }
      ]
    }
  ]
}